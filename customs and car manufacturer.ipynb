{
 "cells": [
  {
   "cell_type": "code",
   "execution_count": null,
   "id": "aeaae951-ec25-4acb-99b4-bb72eaf59edf",
   "metadata": {},
   "outputs": [
    {
     "ename": "ModuleNotFoundError",
     "evalue": "No module named 'nashpy'",
     "output_type": "error",
     "traceback": [
      "\u001b[1;31m---------------------------------------------------------------------------\u001b[0m",
      "\u001b[1;31mModuleNotFoundError\u001b[0m                       Traceback (most recent call last)",
      "\u001b[1;32mc:\\Users\\asus\\AppData\\Local\\Temp\\Rar$DIa29528.13183\\game.ipynb Cell 1\u001b[0m line \u001b[0;36m3\n\u001b[0;32m      <a href='vscode-notebook-cell:/c%3A/Users/asus/AppData/Local/Temp/Rar%24DIa29528.13183/game.ipynb#W0sZmlsZQ%3D%3D?line=0'>1</a>\u001b[0m \u001b[39mimport\u001b[39;00m \u001b[39mpandas\u001b[39;00m \u001b[39mas\u001b[39;00m \u001b[39mpd\u001b[39;00m\n\u001b[0;32m      <a href='vscode-notebook-cell:/c%3A/Users/asus/AppData/Local/Temp/Rar%24DIa29528.13183/game.ipynb#W0sZmlsZQ%3D%3D?line=1'>2</a>\u001b[0m \u001b[39mimport\u001b[39;00m \u001b[39mnumpy\u001b[39;00m \u001b[39mas\u001b[39;00m \u001b[39mnp\u001b[39;00m\n\u001b[1;32m----> <a href='vscode-notebook-cell:/c%3A/Users/asus/AppData/Local/Temp/Rar%24DIa29528.13183/game.ipynb#W0sZmlsZQ%3D%3D?line=2'>3</a>\u001b[0m \u001b[39mimport\u001b[39;00m \u001b[39mnashpy\u001b[39;00m \u001b[39mas\u001b[39;00m \u001b[39mnash\u001b[39;00m\n",
      "\u001b[1;31mModuleNotFoundError\u001b[0m: No module named 'nashpy'"
     ]
    }
   ],
   "source": [
    "import pandas as pd\n",
    "import numpy as np\n",
    "import nashpy as nash"
   ]
  },
  {
   "cell_type": "markdown",
   "id": "889d7c98-4502-4472-a0d5-8480bd7454d0",
   "metadata": {},
   "source": [
    "**parameters**"
   ]
  },
  {
   "cell_type": "code",
   "execution_count": 2,
   "id": "a52690fa-4572-420a-b2a4-25c78962a94e",
   "metadata": {},
   "outputs": [],
   "source": [
    "# cu == Customs Administration\n",
    "# P == domestic manufacturer\n",
    "\n",
    "D21 = 300\n",
    "D22 = 260\n",
    "D11 = 150\n",
    "D12 = 100\n",
    "\n",
    "C1 = 400\n",
    "C2 = 600\n",
    "\n",
    "B = 60  # 𝐷21 − 𝐷22 < 𝐷11 − 𝐷12 < 𝐵\n",
    "a = 100\n",
    "s = 250  # s < C1"
   ]
  },
  {
   "cell_type": "markdown",
   "id": "d296e4c5-bf82-421c-8135-6ba5a8dbf042",
   "metadata": {},
   "source": [
    "**payoffs**"
   ]
  },
  {
   "cell_type": "code",
   "execution_count": 3,
   "id": "44ea5977-cd99-436b-9b83-9fb50ad8937f",
   "metadata": {},
   "outputs": [],
   "source": [
    "cu11 = C1 + a - s ; P11 = D11 - B\n",
    "cu12 = C2 ; P12 = D12\n",
    "cu21 = a ; P21 = D21 - B\n",
    "cu22 = 0 ; P22 = D22"
   ]
  },
  {
   "cell_type": "markdown",
   "id": "e56018c5-5599-408d-aac7-0b390c937ce7",
   "metadata": {},
   "source": [
    "**nash equilibrium**"
   ]
  },
  {
   "cell_type": "code",
   "execution_count": 4,
   "id": "26c2b5cf-fbfb-4659-85e3-fd508f86138c",
   "metadata": {},
   "outputs": [
    {
     "ename": "NameError",
     "evalue": "name 'nash' is not defined",
     "output_type": "error",
     "traceback": [
      "\u001b[1;31m---------------------------------------------------------------------------\u001b[0m",
      "\u001b[1;31mNameError\u001b[0m                                 Traceback (most recent call last)",
      "\u001b[1;32m<ipython-input-4-92a6efe649f1>\u001b[0m in \u001b[0;36m<module>\u001b[1;34m\u001b[0m\n\u001b[0;32m      2\u001b[0m \u001b[0mP\u001b[0m \u001b[1;33m=\u001b[0m \u001b[0mnp\u001b[0m\u001b[1;33m.\u001b[0m\u001b[0marray\u001b[0m\u001b[1;33m(\u001b[0m\u001b[1;33m[\u001b[0m\u001b[1;33m[\u001b[0m\u001b[0mP11\u001b[0m\u001b[1;33m,\u001b[0m \u001b[0mP12\u001b[0m\u001b[1;33m]\u001b[0m\u001b[1;33m,\u001b[0m \u001b[1;33m[\u001b[0m\u001b[0mP21\u001b[0m\u001b[1;33m,\u001b[0m \u001b[0mP22\u001b[0m\u001b[1;33m]\u001b[0m\u001b[1;33m]\u001b[0m\u001b[1;33m)\u001b[0m       \u001b[1;31m#player P\u001b[0m\u001b[1;33m\u001b[0m\u001b[1;33m\u001b[0m\u001b[0m\n\u001b[0;32m      3\u001b[0m \u001b[1;33m\u001b[0m\u001b[0m\n\u001b[1;32m----> 4\u001b[1;33m \u001b[0mgame\u001b[0m \u001b[1;33m=\u001b[0m \u001b[0mnash\u001b[0m\u001b[1;33m.\u001b[0m\u001b[0mGame\u001b[0m\u001b[1;33m(\u001b[0m\u001b[0mcu\u001b[0m\u001b[1;33m,\u001b[0m\u001b[0mP\u001b[0m\u001b[1;33m)\u001b[0m\u001b[1;33m\u001b[0m\u001b[1;33m\u001b[0m\u001b[0m\n\u001b[0m\u001b[0;32m      5\u001b[0m \u001b[0mgame\u001b[0m\u001b[1;33m\u001b[0m\u001b[1;33m\u001b[0m\u001b[0m\n",
      "\u001b[1;31mNameError\u001b[0m: name 'nash' is not defined"
     ]
    }
   ],
   "source": [
    "cu = np.array([[cu11, cu12], [cu21, cu22]])  #player cu\n",
    "P = np.array([[P11, P12], [P21, P22]])       #player P\n",
    "\n",
    "game = nash.Game(cu,P)\n",
    "game"
   ]
  },
  {
   "cell_type": "code",
   "execution_count": 5,
   "id": "204e4244-33dc-4ccc-9f16-392dd28f2bca",
   "metadata": {},
   "outputs": [
    {
     "ename": "NameError",
     "evalue": "name 'game' is not defined",
     "output_type": "error",
     "traceback": [
      "\u001b[1;31m---------------------------------------------------------------------------\u001b[0m",
      "\u001b[1;31mNameError\u001b[0m                                 Traceback (most recent call last)",
      "\u001b[1;32m<ipython-input-5-210144fde370>\u001b[0m in \u001b[0;36m<module>\u001b[1;34m\u001b[0m\n\u001b[1;32m----> 1\u001b[1;33m \u001b[0meqs\u001b[0m \u001b[1;33m=\u001b[0m \u001b[0mgame\u001b[0m\u001b[1;33m.\u001b[0m\u001b[0msupport_enumeration\u001b[0m\u001b[1;33m(\u001b[0m\u001b[1;33m)\u001b[0m    \u001b[1;31m#(کیفیت ثابت، واردات) is eq\u001b[0m\u001b[1;33m\u001b[0m\u001b[1;33m\u001b[0m\u001b[0m\n\u001b[0m\u001b[0;32m      2\u001b[0m \u001b[1;32mfor\u001b[0m \u001b[0meq\u001b[0m \u001b[1;32min\u001b[0m \u001b[0meqs\u001b[0m\u001b[1;33m:\u001b[0m\u001b[1;33m\u001b[0m\u001b[1;33m\u001b[0m\u001b[0m\n\u001b[0;32m      3\u001b[0m     \u001b[0mprint\u001b[0m\u001b[1;33m(\u001b[0m\u001b[0meq\u001b[0m\u001b[1;33m)\u001b[0m\u001b[1;33m\u001b[0m\u001b[1;33m\u001b[0m\u001b[0m\n",
      "\u001b[1;31mNameError\u001b[0m: name 'game' is not defined"
     ]
    }
   ],
   "source": [
    "eqs = game.support_enumeration()    #(import, Consistent quality) is eq\n",
    "for eq in eqs:\n",
    "    print(eq)"
   ]
  },
  {
   "cell_type": "markdown",
   "id": "90456ec4-d3d1-4042-bb20-85e9edd059a8",
   "metadata": {},
   "source": [
    "**For lower B:**"
   ]
  },
  {
   "cell_type": "code",
   "execution_count": 6,
   "id": "402da789-ddcb-4337-8dae-58c96fb47c9c",
   "metadata": {},
   "outputs": [
    {
     "ename": "NameError",
     "evalue": "name 'nash' is not defined",
     "output_type": "error",
     "traceback": [
      "\u001b[1;31m---------------------------------------------------------------------------\u001b[0m",
      "\u001b[1;31mNameError\u001b[0m                                 Traceback (most recent call last)",
      "\u001b[1;32m<ipython-input-6-db9819170aa1>\u001b[0m in \u001b[0;36m<module>\u001b[1;34m\u001b[0m\n\u001b[0;32m      6\u001b[0m \u001b[0mcu\u001b[0m \u001b[1;33m=\u001b[0m \u001b[0mnp\u001b[0m\u001b[1;33m.\u001b[0m\u001b[0marray\u001b[0m\u001b[1;33m(\u001b[0m\u001b[1;33m[\u001b[0m\u001b[1;33m[\u001b[0m\u001b[0mcu11\u001b[0m\u001b[1;33m,\u001b[0m \u001b[0mcu12\u001b[0m\u001b[1;33m]\u001b[0m\u001b[1;33m,\u001b[0m \u001b[1;33m[\u001b[0m\u001b[0mcu21\u001b[0m\u001b[1;33m,\u001b[0m \u001b[0mcu22\u001b[0m\u001b[1;33m]\u001b[0m\u001b[1;33m]\u001b[0m\u001b[1;33m)\u001b[0m  \u001b[1;31m#player cu\u001b[0m\u001b[1;33m\u001b[0m\u001b[1;33m\u001b[0m\u001b[0m\n\u001b[0;32m      7\u001b[0m \u001b[0mP\u001b[0m \u001b[1;33m=\u001b[0m \u001b[0mnp\u001b[0m\u001b[1;33m.\u001b[0m\u001b[0marray\u001b[0m\u001b[1;33m(\u001b[0m\u001b[1;33m[\u001b[0m\u001b[1;33m[\u001b[0m\u001b[0mP11\u001b[0m\u001b[1;33m,\u001b[0m \u001b[0mP12\u001b[0m\u001b[1;33m]\u001b[0m\u001b[1;33m,\u001b[0m \u001b[1;33m[\u001b[0m\u001b[0mP21\u001b[0m\u001b[1;33m,\u001b[0m \u001b[0mP22\u001b[0m\u001b[1;33m]\u001b[0m\u001b[1;33m]\u001b[0m\u001b[1;33m)\u001b[0m       \u001b[1;31m#player P\u001b[0m\u001b[1;33m\u001b[0m\u001b[1;33m\u001b[0m\u001b[0m\n\u001b[1;32m----> 8\u001b[1;33m \u001b[0mgame\u001b[0m \u001b[1;33m=\u001b[0m \u001b[0mnash\u001b[0m\u001b[1;33m.\u001b[0m\u001b[0mGame\u001b[0m\u001b[1;33m(\u001b[0m\u001b[0mcu\u001b[0m\u001b[1;33m,\u001b[0m\u001b[0mP\u001b[0m\u001b[1;33m)\u001b[0m\u001b[1;33m\u001b[0m\u001b[1;33m\u001b[0m\u001b[0m\n\u001b[0m\u001b[0;32m      9\u001b[0m \u001b[1;33m\u001b[0m\u001b[0m\n\u001b[0;32m     10\u001b[0m \u001b[0meqs\u001b[0m \u001b[1;33m=\u001b[0m \u001b[0mgame\u001b[0m\u001b[1;33m.\u001b[0m\u001b[0msupport_enumeration\u001b[0m\u001b[1;33m(\u001b[0m\u001b[1;33m)\u001b[0m    \u001b[1;31m#(افزایش کیفیت، واردات) is eq\u001b[0m\u001b[1;33m\u001b[0m\u001b[1;33m\u001b[0m\u001b[0m\n",
      "\u001b[1;31mNameError\u001b[0m: name 'nash' is not defined"
     ]
    }
   ],
   "source": [
    "B = 45  # B < 𝐷11 − 𝐷12\n",
    "cu11 = C1 + a - s ; P11 = D11 - B\n",
    "cu12 = C2 ; P12 = D12\n",
    "cu21 = a ; P21 = D21 - B\n",
    "cu22 = 0 ; P22 = D22\n",
    "cu = np.array([[cu11, cu12], [cu21, cu22]])  #player cu\n",
    "P = np.array([[P11, P12], [P21, P22]])       #player P\n",
    "game = nash.Game(cu,P)\n",
    "\n",
    "eqs = game.support_enumeration()    #(import, increasing quality) is eq\n",
    "for eq in eqs:\n",
    "    print(eq)"
   ]
  },
  {
   "cell_type": "markdown",
   "id": "9c721dda-ceb7-4e3d-9495-f9d6f65519fe",
   "metadata": {},
   "source": [
    "**For higher s:**"
   ]
  },
  {
   "cell_type": "code",
   "execution_count": 7,
   "id": "90d672e2-2415-4c81-865e-3214f5955d4e",
   "metadata": {},
   "outputs": [
    {
     "ename": "NameError",
     "evalue": "name 'nash' is not defined",
     "output_type": "error",
     "traceback": [
      "\u001b[1;31m---------------------------------------------------------------------------\u001b[0m",
      "\u001b[1;31mNameError\u001b[0m                                 Traceback (most recent call last)",
      "\u001b[1;32m<ipython-input-7-f84551007ea5>\u001b[0m in \u001b[0;36m<module>\u001b[1;34m\u001b[0m\n\u001b[0;32m      7\u001b[0m \u001b[0mcu\u001b[0m \u001b[1;33m=\u001b[0m \u001b[0mnp\u001b[0m\u001b[1;33m.\u001b[0m\u001b[0marray\u001b[0m\u001b[1;33m(\u001b[0m\u001b[1;33m[\u001b[0m\u001b[1;33m[\u001b[0m\u001b[0mcu11\u001b[0m\u001b[1;33m,\u001b[0m \u001b[0mcu12\u001b[0m\u001b[1;33m]\u001b[0m\u001b[1;33m,\u001b[0m \u001b[1;33m[\u001b[0m\u001b[0mcu21\u001b[0m\u001b[1;33m,\u001b[0m \u001b[0mcu22\u001b[0m\u001b[1;33m]\u001b[0m\u001b[1;33m]\u001b[0m\u001b[1;33m)\u001b[0m  \u001b[1;31m#player cu\u001b[0m\u001b[1;33m\u001b[0m\u001b[1;33m\u001b[0m\u001b[0m\n\u001b[0;32m      8\u001b[0m \u001b[0mP\u001b[0m \u001b[1;33m=\u001b[0m \u001b[0mnp\u001b[0m\u001b[1;33m.\u001b[0m\u001b[0marray\u001b[0m\u001b[1;33m(\u001b[0m\u001b[1;33m[\u001b[0m\u001b[1;33m[\u001b[0m\u001b[0mP11\u001b[0m\u001b[1;33m,\u001b[0m \u001b[0mP12\u001b[0m\u001b[1;33m]\u001b[0m\u001b[1;33m,\u001b[0m \u001b[1;33m[\u001b[0m\u001b[0mP21\u001b[0m\u001b[1;33m,\u001b[0m \u001b[0mP22\u001b[0m\u001b[1;33m]\u001b[0m\u001b[1;33m]\u001b[0m\u001b[1;33m)\u001b[0m       \u001b[1;31m#player P\u001b[0m\u001b[1;33m\u001b[0m\u001b[1;33m\u001b[0m\u001b[0m\n\u001b[1;32m----> 9\u001b[1;33m \u001b[0mgame\u001b[0m \u001b[1;33m=\u001b[0m \u001b[0mnash\u001b[0m\u001b[1;33m.\u001b[0m\u001b[0mGame\u001b[0m\u001b[1;33m(\u001b[0m\u001b[0mcu\u001b[0m\u001b[1;33m,\u001b[0m\u001b[0mP\u001b[0m\u001b[1;33m)\u001b[0m\u001b[1;33m\u001b[0m\u001b[1;33m\u001b[0m\u001b[0m\n\u001b[0m\u001b[0;32m     10\u001b[0m \u001b[1;33m\u001b[0m\u001b[0m\n\u001b[0;32m     11\u001b[0m \u001b[0meqs\u001b[0m \u001b[1;33m=\u001b[0m \u001b[0mgame\u001b[0m\u001b[1;33m.\u001b[0m\u001b[0msupport_enumeration\u001b[0m\u001b[1;33m(\u001b[0m\u001b[1;33m)\u001b[0m    \u001b[1;31m#(افزایش کیفیت، منع واردات) is eq\u001b[0m\u001b[1;33m\u001b[0m\u001b[1;33m\u001b[0m\u001b[0m\n",
      "\u001b[1;31mNameError\u001b[0m: name 'nash' is not defined"
     ]
    }
   ],
   "source": [
    "B = 25  #B < D21 - D22 < 𝐷11 − 𝐷12\n",
    "s = 550  # s > C1\n",
    "cu11 = C1 + a - s ; P11 = D11 - B\n",
    "cu12 = C2 ; P12 = D12\n",
    "cu21 = a ; P21 = D21 - B\n",
    "cu22 = 0 ; P22 = D22\n",
    "cu = np.array([[cu11, cu12], [cu21, cu22]])  #player cu\n",
    "P = np.array([[P11, P12], [P21, P22]])       #player P\n",
    "game = nash.Game(cu,P)\n",
    "\n",
    "eqs = game.support_enumeration()    #(Import ban, increasing quality) is eq\n",
    "for eq in eqs:\n",
    "    print(eq)"
   ]
  },
  {
   "cell_type": "markdown",
   "id": "336c40c3-6897-4b8a-8cfa-4193036af477",
   "metadata": {},
   "source": [
    "**mixed strategy Nash eq**"
   ]
  },
  {
   "cell_type": "code",
   "execution_count": 8,
   "id": "6a02e848-d514-4c91-a4af-36f807a4656b",
   "metadata": {},
   "outputs": [
    {
     "ename": "NameError",
     "evalue": "name 'nash' is not defined",
     "output_type": "error",
     "traceback": [
      "\u001b[1;31m---------------------------------------------------------------------------\u001b[0m",
      "\u001b[1;31mNameError\u001b[0m                                 Traceback (most recent call last)",
      "\u001b[1;32m<ipython-input-8-709fc2aa8574>\u001b[0m in \u001b[0;36m<module>\u001b[1;34m\u001b[0m\n\u001b[0;32m      9\u001b[0m \u001b[0mcu\u001b[0m \u001b[1;33m=\u001b[0m \u001b[0mnp\u001b[0m\u001b[1;33m.\u001b[0m\u001b[0marray\u001b[0m\u001b[1;33m(\u001b[0m\u001b[1;33m[\u001b[0m\u001b[1;33m[\u001b[0m\u001b[0mcu11\u001b[0m\u001b[1;33m,\u001b[0m \u001b[0mcu12\u001b[0m\u001b[1;33m]\u001b[0m\u001b[1;33m,\u001b[0m \u001b[1;33m[\u001b[0m\u001b[0mcu21\u001b[0m\u001b[1;33m,\u001b[0m \u001b[0mcu22\u001b[0m\u001b[1;33m]\u001b[0m\u001b[1;33m]\u001b[0m\u001b[1;33m)\u001b[0m  \u001b[1;31m#player cu\u001b[0m\u001b[1;33m\u001b[0m\u001b[1;33m\u001b[0m\u001b[0m\n\u001b[0;32m     10\u001b[0m \u001b[0mP\u001b[0m \u001b[1;33m=\u001b[0m \u001b[0mnp\u001b[0m\u001b[1;33m.\u001b[0m\u001b[0marray\u001b[0m\u001b[1;33m(\u001b[0m\u001b[1;33m[\u001b[0m\u001b[1;33m[\u001b[0m\u001b[0mP11\u001b[0m\u001b[1;33m,\u001b[0m \u001b[0mP12\u001b[0m\u001b[1;33m]\u001b[0m\u001b[1;33m,\u001b[0m \u001b[1;33m[\u001b[0m\u001b[0mP21\u001b[0m\u001b[1;33m,\u001b[0m \u001b[0mP22\u001b[0m\u001b[1;33m]\u001b[0m\u001b[1;33m]\u001b[0m\u001b[1;33m)\u001b[0m       \u001b[1;31m#player P\u001b[0m\u001b[1;33m\u001b[0m\u001b[1;33m\u001b[0m\u001b[0m\n\u001b[1;32m---> 11\u001b[1;33m \u001b[0mgame\u001b[0m \u001b[1;33m=\u001b[0m \u001b[0mnash\u001b[0m\u001b[1;33m.\u001b[0m\u001b[0mGame\u001b[0m\u001b[1;33m(\u001b[0m\u001b[0mcu\u001b[0m\u001b[1;33m,\u001b[0m\u001b[0mP\u001b[0m\u001b[1;33m)\u001b[0m\u001b[1;33m\u001b[0m\u001b[1;33m\u001b[0m\u001b[0m\n\u001b[0m\u001b[0;32m     12\u001b[0m \u001b[1;33m\u001b[0m\u001b[0m\n\u001b[0;32m     13\u001b[0m \u001b[0meqs\u001b[0m \u001b[1;33m=\u001b[0m \u001b[0mgame\u001b[0m\u001b[1;33m.\u001b[0m\u001b[0msupport_enumeration\u001b[0m\u001b[1;33m(\u001b[0m\u001b[1;33m)\u001b[0m\u001b[1;33m\u001b[0m\u001b[1;33m\u001b[0m\u001b[0m\n",
      "\u001b[1;31mNameError\u001b[0m: name 'nash' is not defined"
     ]
    }
   ],
   "source": [
    "B = 48  # D21 - D22 < B < 𝐷11 − 𝐷12\n",
    "s = 600 # s > C1\n",
    "# C1 = 430\n",
    "\n",
    "cu11 = C1 + a - s ; P11 = D11 - B\n",
    "cu12 = C2 ; P12 = D12\n",
    "cu21 = a ; P21 = D21 - B\n",
    "cu22 = 0 ; P22 = D22\n",
    "cu = np.array([[cu11, cu12], [cu21, cu22]])  #player cu\n",
    "P = np.array([[P11, P12], [P21, P22]])       #player P\n",
    "game = nash.Game(cu,P)\n",
    "\n",
    "eqs = game.support_enumeration()\n",
    "for eq in eqs:\n",
    "    print(eq)"
   ]
  },
  {
   "cell_type": "code",
   "execution_count": null,
   "id": "971fad95-abef-425b-8204-09e3ffc9bc9d",
   "metadata": {},
   "outputs": [],
   "source": []
  },
  {
   "cell_type": "code",
   "execution_count": null,
   "id": "0d9fae56",
   "metadata": {},
   "outputs": [],
   "source": []
  }
 ],
 "metadata": {
  "kernelspec": {
   "display_name": "Python 3",
   "language": "python",
   "name": "python3"
  },
  "language_info": {
   "codemirror_mode": {
    "name": "ipython",
    "version": 3
   },
   "file_extension": ".py",
   "mimetype": "text/x-python",
   "name": "python",
   "nbconvert_exporter": "python",
   "pygments_lexer": "ipython3",
   "version": "3.8.10"
  }
 },
 "nbformat": 4,
 "nbformat_minor": 5
}
